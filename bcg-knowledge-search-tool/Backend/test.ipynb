{
 "cells": [
  {
   "cell_type": "code",
   "execution_count": 2,
   "metadata": {},
   "outputs": [
    {
     "name": "stdout",
     "output_type": "stream",
     "text": [
      "<class 'pandas.core.frame.DataFrame'>\n",
      "RangeIndex: 18 entries, 0 to 17\n",
      "Data columns (total 17 columns):\n",
      " #   Column                                      Non-Null Count  Dtype \n",
      "---  ------                                      --------------  ----- \n",
      " 0   PA classification                           18 non-null     object\n",
      " 1   Sector/Area                                 18 non-null     object\n",
      " 2   Sub-Sector                                  18 non-null     object\n",
      " 3   Source name                                 18 non-null     object\n",
      " 4   Description                                 18 non-null     object\n",
      " 5   Type (General DB, specialized, ...)         18 non-null     object\n",
      " 6   Free/Paid?                                  18 non-null     object\n",
      " 7   Geography                                   18 non-null     object\n",
      " 8   Regional data                               18 non-null     object\n",
      " 9   Country data                                18 non-null     object\n",
      " 10  Frequency cover harmonized for all geos ?   18 non-null     object\n",
      " 11  Frequency                                   18 non-null     object\n",
      " 12  Years                                       18 non-null     object\n",
      " 13  Tags                                        18 non-null     object\n",
      " 14  Format                                      18 non-null     object\n",
      " 15  Reliability score (1-10)                    18 non-null     int64 \n",
      " 16  Link                                        18 non-null     object\n",
      "dtypes: int64(1), object(16)\n",
      "memory usage: 2.5+ KB\n"
     ]
    }
   ],
   "source": [
    "import pandas as pd \n",
    "\n",
    "\n",
    "# read root Database.csv\n",
    "df = pd.read_excel('Database.xlsx')\n",
    "\n",
    "df.info()"
   ]
  },
  {
   "cell_type": "code",
   "execution_count": 3,
   "metadata": {},
   "outputs": [],
   "source": [
    "# transform to csv\n",
    "df.to_csv('Database.csv', index=False)"
   ]
  },
  {
   "cell_type": "code",
   "execution_count": 4,
   "metadata": {},
   "outputs": [],
   "source": [
    "# read the csv\n",
    "df = pd.read_csv('Database.csv')\n"
   ]
  }
 ],
 "metadata": {
  "kernelspec": {
   "display_name": "fastapitest",
   "language": "python",
   "name": "python3"
  },
  "language_info": {
   "codemirror_mode": {
    "name": "ipython",
    "version": 3
   },
   "file_extension": ".py",
   "mimetype": "text/x-python",
   "name": "python",
   "nbconvert_exporter": "python",
   "pygments_lexer": "ipython3",
   "version": "3.11.2"
  }
 },
 "nbformat": 4,
 "nbformat_minor": 2
}
